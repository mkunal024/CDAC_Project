from faker import Faker
import random

fake = Faker()

def generate_user_type():
    return random.choice(['Owner'])

def generate_username():
    return f"{fake.word()}@society.in"

def generate_insert_statement(user_id, user_type, username, password):
    return f"INSERT INTO User (UserID, UserType, Username, Password) VALUES ('{user_id}', '{user_type}', '{username}', '{password}');"
k=200
for i in range(1, 11):
   
    k=k+1
    user_id = f'A{k}'
    user_type = generate_user_type()
    username = generate_username()
    password = fake.password(length=10)
    sql_statement = generate_insert_statement(user_id, user_type, username, password)
    print(sql_statement)
