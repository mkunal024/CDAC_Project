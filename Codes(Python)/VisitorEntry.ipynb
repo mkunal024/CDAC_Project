from faker import Faker
import random
import datetime

fake = Faker()

def generate_random_time():
    hours = random.randint(8, 20)
    minutes = random.choice([0, 15, 30, 45])
    return datetime.datetime(2023, 8, random.randint(1, 31), hours, minutes)

def generate_insert_statement(visitor_id, name, contact_info, purpose, check_in_time, check_out_time):
    return f"INSERT INTO Visitor (VisitorID, Name, ContactInfo, Purpose, CheckInTime, CheckOutTime) VALUES ({visitor_id}, '{name}', '{contact_info}', '{purpose}', '{check_in_time}', '{check_out_time}');"

for i in range(1, 101):
    name = fake.name()
    contact_info = fake.phone_number()
    purpose = fake.sentence(nb_words=6)
    check_in_time = generate_random_time()
    check_out_time = check_in_time + datetime.timedelta(hours=random.randint(1, 5))
    sql_statement = generate_insert_statement(i, name, contact_info, purpose, check_in_time, check_out_time)
    print(sql_statement)
